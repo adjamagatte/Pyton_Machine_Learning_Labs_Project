{
 "cells": [
  {
   "cell_type": "markdown",
   "metadata": {},
   "source": [
    "### Import libraries"
   ]
  },
  {
   "cell_type": "code",
   "execution_count": 69,
   "metadata": {
    "pycharm": {
     "name": "#%%\n"
    }
   },
   "outputs": [],
   "source": [
    "import os\n",
    "import matplotlib.pyplot as plt\n",
    "import pandas as pd\n",
    "from sklearn.preprocessing import StandardScaler\n",
    "from sklearn.datasets import load_iris\n",
    "from sklearn.linear_model import LogisticRegression"
   ]
  },
  {
   "cell_type": "markdown",
   "metadata": {},
   "source": [
    "### Import CSV files into an Dataframe"
   ]
  },
  {
   "cell_type": "code",
   "execution_count": 2,
   "metadata": {
    "pycharm": {
     "name": "#%%\n"
    }
   },
   "outputs": [],
   "source": [
    "# import csv files\n",
    "def create_dataframe(filename, sep, verbose=True):\n",
    "    \"\"\"Create pandas dataframe from a csv file\n",
    "filename: the csv filename\n",
    "sep: input here the kind of separator\n",
    "    \"\"\"\n",
    "    df = pd.read_csv(filename, sep=sep)\n",
    "    if verbose:\n",
    "        print(df.info())\n",
    "    return df"
   ]
  },
  {
   "cell_type": "code",
   "execution_count": 3,
   "metadata": {
    "pycharm": {
     "name": "#%%\n"
    },
    "scrolled": true
   },
   "outputs": [
    {
     "name": "stdout",
     "output_type": "stream",
     "text": [
      "<class 'pandas.core.frame.DataFrame'>\n",
      "RangeIndex: 418 entries, 0 to 417\n",
      "Data columns (total 11 columns):\n",
      " #   Column       Non-Null Count  Dtype  \n",
      "---  ------       --------------  -----  \n",
      " 0   PassengerId  418 non-null    int64  \n",
      " 1   Pclass       418 non-null    int64  \n",
      " 2   Name         418 non-null    object \n",
      " 3   Sex          418 non-null    object \n",
      " 4   Age          332 non-null    float64\n",
      " 5   SibSp        418 non-null    int64  \n",
      " 6   Parch        418 non-null    int64  \n",
      " 7   Ticket       418 non-null    object \n",
      " 8   Fare         417 non-null    float64\n",
      " 9   Cabin        91 non-null     object \n",
      " 10  Embarked     418 non-null    object \n",
      "dtypes: float64(2), int64(4), object(5)\n",
      "memory usage: 36.0+ KB\n",
      "None\n",
      "<class 'pandas.core.frame.DataFrame'>\n",
      "RangeIndex: 891 entries, 0 to 890\n",
      "Data columns (total 12 columns):\n",
      " #   Column       Non-Null Count  Dtype  \n",
      "---  ------       --------------  -----  \n",
      " 0   PassengerId  891 non-null    int64  \n",
      " 1   Survived     891 non-null    int64  \n",
      " 2   Pclass       891 non-null    int64  \n",
      " 3   Name         891 non-null    object \n",
      " 4   Sex          891 non-null    object \n",
      " 5   Age          714 non-null    float64\n",
      " 6   SibSp        891 non-null    int64  \n",
      " 7   Parch        891 non-null    int64  \n",
      " 8   Ticket       891 non-null    object \n",
      " 9   Fare         891 non-null    float64\n",
      " 10  Cabin        204 non-null    object \n",
      " 11  Embarked     889 non-null    object \n",
      "dtypes: float64(2), int64(5), object(5)\n",
      "memory usage: 83.7+ KB\n",
      "None\n"
     ]
    }
   ],
   "source": [
    "    df_test = create_dataframe(\"test.csv\", \",\")\n",
    "    df_train = create_dataframe(\"train.csv\", \",\")"
   ]
  },
  {
   "cell_type": "code",
   "execution_count": 4,
   "metadata": {},
   "outputs": [],
   "source": [
    "df = df_train.copy()"
   ]
  },
  {
   "cell_type": "code",
   "execution_count": 65,
   "metadata": {},
   "outputs": [],
   "source": [
    "y = df['Survived']"
   ]
  },
  {
   "cell_type": "code",
   "execution_count": 66,
   "metadata": {},
   "outputs": [
    {
     "data": {
      "text/plain": [
       "(891,)"
      ]
     },
     "execution_count": 66,
     "metadata": {},
     "output_type": "execute_result"
    }
   ],
   "source": [
    "y.shape"
   ]
  },
  {
   "cell_type": "code",
   "execution_count": 5,
   "metadata": {
    "pycharm": {
     "name": "#%%\n"
    },
    "scrolled": true
   },
   "outputs": [
    {
     "data": {
      "text/plain": [
       "B96 B98        4\n",
       "C23 C25 C27    4\n",
       "G6             4\n",
       "F33            3\n",
       "C22 C26        3\n",
       "              ..\n",
       "C95            1\n",
       "A34            1\n",
       "E17            1\n",
       "E63            1\n",
       "T              1\n",
       "Name: Cabin, Length: 147, dtype: int64"
      ]
     },
     "execution_count": 5,
     "metadata": {},
     "output_type": "execute_result"
    }
   ],
   "source": [
    "df_train[\"Cabin\"].value_counts()"
   ]
  },
  {
   "cell_type": "code",
   "execution_count": 6,
   "metadata": {
    "pycharm": {
     "name": "#%%\n"
    }
   },
   "outputs": [
    {
     "data": {
      "text/plain": [
       "B96 B98        4\n",
       "C23 C25 C27    4\n",
       "G6             4\n",
       "F33            3\n",
       "C22 C26        3\n",
       "              ..\n",
       "C95            1\n",
       "A34            1\n",
       "E17            1\n",
       "E63            1\n",
       "T              1\n",
       "Name: Cabin, Length: 147, dtype: int64"
      ]
     },
     "execution_count": 6,
     "metadata": {},
     "output_type": "execute_result"
    }
   ],
   "source": [
    "df_train[\"Cabin\"].value_counts()"
   ]
  },
  {
   "cell_type": "code",
   "execution_count": 7,
   "metadata": {
    "pycharm": {
     "name": "#%%\n"
    }
   },
   "outputs": [
    {
     "data": {
      "text/html": [
       "<div>\n",
       "<style scoped>\n",
       "    .dataframe tbody tr th:only-of-type {\n",
       "        vertical-align: middle;\n",
       "    }\n",
       "\n",
       "    .dataframe tbody tr th {\n",
       "        vertical-align: top;\n",
       "    }\n",
       "\n",
       "    .dataframe thead th {\n",
       "        text-align: right;\n",
       "    }\n",
       "</style>\n",
       "<table border=\"1\" class=\"dataframe\">\n",
       "  <thead>\n",
       "    <tr style=\"text-align: right;\">\n",
       "      <th></th>\n",
       "      <th>PassengerId</th>\n",
       "      <th>Survived</th>\n",
       "      <th>Pclass</th>\n",
       "      <th>Name</th>\n",
       "      <th>Sex</th>\n",
       "      <th>Age</th>\n",
       "      <th>SibSp</th>\n",
       "      <th>Parch</th>\n",
       "      <th>Ticket</th>\n",
       "      <th>Fare</th>\n",
       "      <th>Cabin</th>\n",
       "      <th>Embarked</th>\n",
       "    </tr>\n",
       "  </thead>\n",
       "  <tbody>\n",
       "    <tr>\n",
       "      <th>258</th>\n",
       "      <td>259</td>\n",
       "      <td>1</td>\n",
       "      <td>1</td>\n",
       "      <td>Ward, Miss. Anna</td>\n",
       "      <td>female</td>\n",
       "      <td>35.0</td>\n",
       "      <td>0</td>\n",
       "      <td>0</td>\n",
       "      <td>PC 17755</td>\n",
       "      <td>512.3292</td>\n",
       "      <td>NaN</td>\n",
       "      <td>C</td>\n",
       "    </tr>\n",
       "    <tr>\n",
       "      <th>679</th>\n",
       "      <td>680</td>\n",
       "      <td>1</td>\n",
       "      <td>1</td>\n",
       "      <td>Cardeza, Mr. Thomas Drake Martinez</td>\n",
       "      <td>male</td>\n",
       "      <td>36.0</td>\n",
       "      <td>0</td>\n",
       "      <td>1</td>\n",
       "      <td>PC 17755</td>\n",
       "      <td>512.3292</td>\n",
       "      <td>B51 B53 B55</td>\n",
       "      <td>C</td>\n",
       "    </tr>\n",
       "    <tr>\n",
       "      <th>737</th>\n",
       "      <td>738</td>\n",
       "      <td>1</td>\n",
       "      <td>1</td>\n",
       "      <td>Lesurer, Mr. Gustave J</td>\n",
       "      <td>male</td>\n",
       "      <td>35.0</td>\n",
       "      <td>0</td>\n",
       "      <td>0</td>\n",
       "      <td>PC 17755</td>\n",
       "      <td>512.3292</td>\n",
       "      <td>B101</td>\n",
       "      <td>C</td>\n",
       "    </tr>\n",
       "  </tbody>\n",
       "</table>\n",
       "</div>"
      ],
      "text/plain": [
       "     PassengerId  Survived  Pclass                                Name  \\\n",
       "258          259         1       1                    Ward, Miss. Anna   \n",
       "679          680         1       1  Cardeza, Mr. Thomas Drake Martinez   \n",
       "737          738         1       1              Lesurer, Mr. Gustave J   \n",
       "\n",
       "        Sex   Age  SibSp  Parch    Ticket      Fare        Cabin Embarked  \n",
       "258  female  35.0      0      0  PC 17755  512.3292          NaN        C  \n",
       "679    male  36.0      0      1  PC 17755  512.3292  B51 B53 B55        C  \n",
       "737    male  35.0      0      0  PC 17755  512.3292         B101        C  "
      ]
     },
     "execution_count": 7,
     "metadata": {},
     "output_type": "execute_result"
    }
   ],
   "source": [
    "df_train.columns\n",
    "df_train[[\"Survived\", \"Age\",\"SibSp\", \"Parch\", \"Pclass\", \"Fare\"]].describe()\n",
    "df_train[df_train[\"Fare\"]> 500]"
   ]
  },
  {
   "cell_type": "code",
   "execution_count": 8,
   "metadata": {
    "pycharm": {
     "name": "#%%\n"
    }
   },
   "outputs": [],
   "source": [
    "#Check for people with a fare tickets higher than 500\n",
    "df_train_rich = df_train[df_train[\"Fare\"]> 500]\n",
    "#df_train_rich.to_csv(\"train_fare_500.csv\")"
   ]
  },
  {
   "cell_type": "code",
   "execution_count": 9,
   "metadata": {
    "pycharm": {
     "name": "#%%\n"
    }
   },
   "outputs": [
    {
     "name": "stdout",
     "output_type": "stream",
     "text": [
      "       PassengerId   Survived  Pclass        Age      SibSp      Parch  \\\n",
      "count    47.000000  47.000000    47.0  45.000000  47.000000  47.000000   \n",
      "mean    521.808511   0.744681     1.0  34.955556   0.361702   0.574468   \n",
      "std     252.725116   0.440755     0.0  15.491868   0.568198   0.773043   \n",
      "min      32.000000   0.000000     1.0  11.000000   0.000000   0.000000   \n",
      "25%     306.000000   0.500000     1.0  24.000000   0.000000   0.000000   \n",
      "50%     540.000000   1.000000     1.0  33.000000   0.000000   0.000000   \n",
      "75%     744.500000   1.000000     1.0  44.000000   1.000000   1.000000   \n",
      "max     888.000000   1.000000     1.0  70.000000   2.000000   2.000000   \n",
      "\n",
      "             Fare  \n",
      "count   47.000000  \n",
      "mean   113.505764  \n",
      "std    109.301500  \n",
      "min      0.000000  \n",
      "25%     57.000000  \n",
      "50%     80.000000  \n",
      "75%    120.000000  \n",
      "max    512.329200  \n"
     ]
    }
   ],
   "source": [
    "#Check the Fare for people which were in cabin category B\n",
    "df_train_B = df_train[df_train[\"Cabin\"].str[0] ==\"B\"]\n",
    "print(df_train[df_train[\"Cabin\"].str[0] ==\"B\"].describe())\n",
    "# It seems one is at 0, let's check for this one"
   ]
  },
  {
   "cell_type": "code",
   "execution_count": 10,
   "metadata": {
    "pycharm": {
     "name": "#%%\n"
    }
   },
   "outputs": [],
   "source": [
    "df_train[\"Cabin\"].str[0].value_counts()\n",
    "df_train[\"cabin_class\"] = df_train[\"Cabin\"].str[0]"
   ]
  },
  {
   "cell_type": "code",
   "execution_count": 11,
   "metadata": {
    "pycharm": {
     "name": "#%%\n"
    }
   },
   "outputs": [
    {
     "data": {
      "image/png": "[encoded data removed]",
      "text/plain": [
       "<Figure size 432x288 with 9 Axes>"
      ]
     },
     "metadata": {
      "needs_background": "light"
     },
     "output_type": "display_data"
    }
   ],
   "source": [
    "df_train[\"Fare\"].hist(by=df_train['cabin_class'])\n",
    "plt.show()   "
   ]
  },
  {
   "cell_type": "code",
   "execution_count": 12,
   "metadata": {
    "pycharm": {
     "name": "#%%\n"
    }
   },
   "outputs": [
    {
     "data": {
      "text/html": [
       "<div>\n",
       "<style scoped>\n",
       "    .dataframe tbody tr th:only-of-type {\n",
       "        vertical-align: middle;\n",
       "    }\n",
       "\n",
       "    .dataframe tbody tr th {\n",
       "        vertical-align: top;\n",
       "    }\n",
       "\n",
       "    .dataframe thead th {\n",
       "        text-align: right;\n",
       "    }\n",
       "</style>\n",
       "<table border=\"1\" class=\"dataframe\">\n",
       "  <thead>\n",
       "    <tr style=\"text-align: right;\">\n",
       "      <th></th>\n",
       "      <th>cabin_class_A</th>\n",
       "      <th>cabin_class_B</th>\n",
       "      <th>cabin_class_C</th>\n",
       "      <th>cabin_class_D</th>\n",
       "      <th>cabin_class_E</th>\n",
       "      <th>cabin_class_F</th>\n",
       "      <th>cabin_class_G</th>\n",
       "      <th>cabin_class_T</th>\n",
       "    </tr>\n",
       "  </thead>\n",
       "  <tbody>\n",
       "    <tr>\n",
       "      <th>0</th>\n",
       "      <td>0</td>\n",
       "      <td>0</td>\n",
       "      <td>0</td>\n",
       "      <td>0</td>\n",
       "      <td>0</td>\n",
       "      <td>0</td>\n",
       "      <td>0</td>\n",
       "      <td>0</td>\n",
       "    </tr>\n",
       "    <tr>\n",
       "      <th>1</th>\n",
       "      <td>0</td>\n",
       "      <td>0</td>\n",
       "      <td>1</td>\n",
       "      <td>0</td>\n",
       "      <td>0</td>\n",
       "      <td>0</td>\n",
       "      <td>0</td>\n",
       "      <td>0</td>\n",
       "    </tr>\n",
       "    <tr>\n",
       "      <th>2</th>\n",
       "      <td>0</td>\n",
       "      <td>0</td>\n",
       "      <td>0</td>\n",
       "      <td>0</td>\n",
       "      <td>0</td>\n",
       "      <td>0</td>\n",
       "      <td>0</td>\n",
       "      <td>0</td>\n",
       "    </tr>\n",
       "    <tr>\n",
       "      <th>3</th>\n",
       "      <td>0</td>\n",
       "      <td>0</td>\n",
       "      <td>1</td>\n",
       "      <td>0</td>\n",
       "      <td>0</td>\n",
       "      <td>0</td>\n",
       "      <td>0</td>\n",
       "      <td>0</td>\n",
       "    </tr>\n",
       "    <tr>\n",
       "      <th>4</th>\n",
       "      <td>0</td>\n",
       "      <td>0</td>\n",
       "      <td>0</td>\n",
       "      <td>0</td>\n",
       "      <td>0</td>\n",
       "      <td>0</td>\n",
       "      <td>0</td>\n",
       "      <td>0</td>\n",
       "    </tr>\n",
       "    <tr>\n",
       "      <th>...</th>\n",
       "      <td>...</td>\n",
       "      <td>...</td>\n",
       "      <td>...</td>\n",
       "      <td>...</td>\n",
       "      <td>...</td>\n",
       "      <td>...</td>\n",
       "      <td>...</td>\n",
       "      <td>...</td>\n",
       "    </tr>\n",
       "    <tr>\n",
       "      <th>886</th>\n",
       "      <td>0</td>\n",
       "      <td>0</td>\n",
       "      <td>0</td>\n",
       "      <td>0</td>\n",
       "      <td>0</td>\n",
       "      <td>0</td>\n",
       "      <td>0</td>\n",
       "      <td>0</td>\n",
       "    </tr>\n",
       "    <tr>\n",
       "      <th>887</th>\n",
       "      <td>0</td>\n",
       "      <td>1</td>\n",
       "      <td>0</td>\n",
       "      <td>0</td>\n",
       "      <td>0</td>\n",
       "      <td>0</td>\n",
       "      <td>0</td>\n",
       "      <td>0</td>\n",
       "    </tr>\n",
       "    <tr>\n",
       "      <th>888</th>\n",
       "      <td>0</td>\n",
       "      <td>0</td>\n",
       "      <td>0</td>\n",
       "      <td>0</td>\n",
       "      <td>0</td>\n",
       "      <td>0</td>\n",
       "      <td>0</td>\n",
       "      <td>0</td>\n",
       "    </tr>\n",
       "    <tr>\n",
       "      <th>889</th>\n",
       "      <td>0</td>\n",
       "      <td>0</td>\n",
       "      <td>1</td>\n",
       "      <td>0</td>\n",
       "      <td>0</td>\n",
       "      <td>0</td>\n",
       "      <td>0</td>\n",
       "      <td>0</td>\n",
       "    </tr>\n",
       "    <tr>\n",
       "      <th>890</th>\n",
       "      <td>0</td>\n",
       "      <td>0</td>\n",
       "      <td>0</td>\n",
       "      <td>0</td>\n",
       "      <td>0</td>\n",
       "      <td>0</td>\n",
       "      <td>0</td>\n",
       "      <td>0</td>\n",
       "    </tr>\n",
       "  </tbody>\n",
       "</table>\n",
       "<p>891 rows × 8 columns</p>\n",
       "</div>"
      ],
      "text/plain": [
       "     cabin_class_A  cabin_class_B  cabin_class_C  cabin_class_D  \\\n",
       "0                0              0              0              0   \n",
       "1                0              0              1              0   \n",
       "2                0              0              0              0   \n",
       "3                0              0              1              0   \n",
       "4                0              0              0              0   \n",
       "..             ...            ...            ...            ...   \n",
       "886              0              0              0              0   \n",
       "887              0              1              0              0   \n",
       "888              0              0              0              0   \n",
       "889              0              0              1              0   \n",
       "890              0              0              0              0   \n",
       "\n",
       "     cabin_class_E  cabin_class_F  cabin_class_G  cabin_class_T  \n",
       "0                0              0              0              0  \n",
       "1                0              0              0              0  \n",
       "2                0              0              0              0  \n",
       "3                0              0              0              0  \n",
       "4                0              0              0              0  \n",
       "..             ...            ...            ...            ...  \n",
       "886              0              0              0              0  \n",
       "887              0              0              0              0  \n",
       "888              0              0              0              0  \n",
       "889              0              0              0              0  \n",
       "890              0              0              0              0  \n",
       "\n",
       "[891 rows x 8 columns]"
      ]
     },
     "execution_count": 12,
     "metadata": {},
     "output_type": "execute_result"
    }
   ],
   "source": [
    "#Create a dummy dataframe from the cabin class\n",
    "df_dummy_cabin = pd.get_dummies(df_train['cabin_class'], prefix='cabin_class')\n",
    "df_dummy_cabin"
   ]
  },
  {
   "cell_type": "code",
   "execution_count": 13,
   "metadata": {
    "pycharm": {
     "name": "#%%\n"
    }
   },
   "outputs": [],
   "source": [
    "#Add the dummy table to the first dataset\n",
    "df_train = pd.concat([df_train, df_dummy_cabin],axis=1)"
   ]
  },
  {
   "cell_type": "code",
   "execution_count": 14,
   "metadata": {},
   "outputs": [
    {
     "data": {
      "text/plain": [
       "891"
      ]
     },
     "execution_count": 14,
     "metadata": {},
     "output_type": "execute_result"
    }
   ],
   "source": [
    "len(df_train)"
   ]
  },
  {
   "cell_type": "code",
   "execution_count": 15,
   "metadata": {
    "pycharm": {
     "name": "#%%\n"
    }
   },
   "outputs": [],
   "source": [
    "def categorise_Sibsp(row):\n",
    "    \"\"\"Categorise the SibSp column into 3 categories\n",
    "    output:\n",
    "    2: if more than one sibling\n",
    "    1: if one sibling only\n",
    "    0: if no no\n",
    "    \"\"\"\n",
    "    temp_dict={1:\"Couple\", 0:\"Single\"}\n",
    "    if row in temp_dict.keys():\n",
    "        return temp_dict[row]\n",
    "    else:\n",
    "        return \"Family\""
   ]
  },
  {
   "cell_type": "code",
   "execution_count": 16,
   "metadata": {
    "pycharm": {
     "name": "#%%\n"
    }
   },
   "outputs": [
    {
     "data": {
      "text/plain": [
       "<function matplotlib.pyplot.show(close=None, block=None)>"
      ]
     },
     "execution_count": 16,
     "metadata": {},
     "output_type": "execute_result"
    },
    {
     "data": {
      "image/png": "[encoded data removed]",
      "text/plain": [
       "<Figure size 432x288 with 1 Axes>"
      ]
     },
     "metadata": {
      "needs_background": "light"
     },
     "output_type": "display_data"
    }
   ],
   "source": [
    "df_train[\"SibSp\"].hist()\n",
    "plt.show"
   ]
  },
  {
   "cell_type": "code",
   "execution_count": 17,
   "metadata": {
    "pycharm": {
     "name": "#%%\n"
    }
   },
   "outputs": [],
   "source": [
    "df_train[\"SibSp_group\"] = df_train[\"SibSp\"].apply(lambda x: categorise_Sibsp(x))"
   ]
  },
  {
   "cell_type": "code",
   "execution_count": 18,
   "metadata": {
    "pycharm": {
     "name": "#%%\n"
    }
   },
   "outputs": [
    {
     "data": {
      "image/png": "[encoded data removed]",
      "text/plain": [
       "<Figure size 432x288 with 4 Axes>"
      ]
     },
     "metadata": {
      "needs_background": "light"
     },
     "output_type": "display_data"
    }
   ],
   "source": [
    "df_train[\"Survived\"].hist(by=df_train['SibSp_group'])\n",
    "plt.show()   "
   ]
  },
  {
   "cell_type": "code",
   "execution_count": 19,
   "metadata": {
    "pycharm": {
     "name": "#%%\n"
    }
   },
   "outputs": [
    {
     "name": "stdout",
     "output_type": "stream",
     "text": [
      "0    549\n",
      "1    342\n",
      "Name: Survived, dtype: int64\n"
     ]
    }
   ],
   "source": [
    "#Ratio of survivals:\n",
    "survivals =  df_train[\"Survived\"].value_counts()\n",
    "print(survivals)"
   ]
  },
  {
   "cell_type": "code",
   "execution_count": 20,
   "metadata": {},
   "outputs": [
    {
     "name": "stdout",
     "output_type": "stream",
     "text": [
      "<class 'pandas.core.frame.DataFrame'>\n",
      "RangeIndex: 891 entries, 0 to 890\n",
      "Data columns (total 22 columns):\n",
      " #   Column         Non-Null Count  Dtype  \n",
      "---  ------         --------------  -----  \n",
      " 0   PassengerId    891 non-null    int64  \n",
      " 1   Survived       891 non-null    int64  \n",
      " 2   Pclass         891 non-null    int64  \n",
      " 3   Name           891 non-null    object \n",
      " 4   Sex            891 non-null    object \n",
      " 5   Age            714 non-null    float64\n",
      " 6   SibSp          891 non-null    int64  \n",
      " 7   Parch          891 non-null    int64  \n",
      " 8   Ticket         891 non-null    object \n",
      " 9   Fare           891 non-null    float64\n",
      " 10  Cabin          204 non-null    object \n",
      " 11  Embarked       889 non-null    object \n",
      " 12  cabin_class    204 non-null    object \n",
      " 13  cabin_class_A  891 non-null    uint8  \n",
      " 14  cabin_class_B  891 non-null    uint8  \n",
      " 15  cabin_class_C  891 non-null    uint8  \n",
      " 16  cabin_class_D  891 non-null    uint8  \n",
      " 17  cabin_class_E  891 non-null    uint8  \n",
      " 18  cabin_class_F  891 non-null    uint8  \n",
      " 19  cabin_class_G  891 non-null    uint8  \n",
      " 20  cabin_class_T  891 non-null    uint8  \n",
      " 21  SibSp_group    891 non-null    object \n",
      "dtypes: float64(2), int64(5), object(7), uint8(8)\n",
      "memory usage: 104.5+ KB\n"
     ]
    }
   ],
   "source": [
    "df_train.info()"
   ]
  },
  {
   "cell_type": "code",
   "execution_count": 21,
   "metadata": {},
   "outputs": [
    {
     "data": {
      "text/plain": [
       "PassengerId        0\n",
       "Survived           0\n",
       "Pclass             0\n",
       "Name               0\n",
       "Sex                0\n",
       "Age              177\n",
       "SibSp              0\n",
       "Parch              0\n",
       "Ticket             0\n",
       "Fare               0\n",
       "Cabin            687\n",
       "Embarked           2\n",
       "cabin_class      687\n",
       "cabin_class_A      0\n",
       "cabin_class_B      0\n",
       "cabin_class_C      0\n",
       "cabin_class_D      0\n",
       "cabin_class_E      0\n",
       "cabin_class_F      0\n",
       "cabin_class_G      0\n",
       "cabin_class_T      0\n",
       "SibSp_group        0\n",
       "dtype: int64"
      ]
     },
     "execution_count": 21,
     "metadata": {},
     "output_type": "execute_result"
    }
   ],
   "source": [
    "df_train.isnull().sum()"
   ]
  },
  {
   "cell_type": "code",
   "execution_count": 22,
   "metadata": {},
   "outputs": [
    {
     "data": {
      "text/plain": [
       "array([nan, 'C', 'E', 'G', 'D', 'A', 'B', 'F', 'T'], dtype=object)"
      ]
     },
     "execution_count": 22,
     "metadata": {},
     "output_type": "execute_result"
    }
   ],
   "source": [
    "df_train[\"Cabin\"].str[0].unique()"
   ]
  },
  {
   "cell_type": "code",
   "execution_count": 23,
   "metadata": {},
   "outputs": [],
   "source": [
    "df_train.drop(['PassengerId',\"Name\",\"Ticket\",\"Cabin\"],axis=1,inplace=True)"
   ]
  },
  {
   "cell_type": "code",
   "execution_count": 24,
   "metadata": {},
   "outputs": [],
   "source": [
    "df_train_encodedSex = pd.get_dummies(df_train['Sex'],prefix='EncodedSex')"
   ]
  },
  {
   "cell_type": "code",
   "execution_count": 25,
   "metadata": {},
   "outputs": [],
   "source": [
    "df_train= pd.concat([df_train,df_train_encodedSex],axis=1)"
   ]
  },
  {
   "cell_type": "code",
   "execution_count": 26,
   "metadata": {},
   "outputs": [
    {
     "data": {
      "text/plain": [
       "891"
      ]
     },
     "execution_count": 26,
     "metadata": {},
     "output_type": "execute_result"
    }
   ],
   "source": [
    "len(df_train)"
   ]
  },
  {
   "cell_type": "code",
   "execution_count": 27,
   "metadata": {},
   "outputs": [],
   "source": [
    "df_train_encodedEmbarked = pd.get_dummies(df_train['Embarked'],prefix='EncodedEmbarke')"
   ]
  },
  {
   "cell_type": "code",
   "execution_count": 28,
   "metadata": {},
   "outputs": [],
   "source": [
    "df_train= pd.concat([df_train,df_train_encodedEmbarked],axis=1)"
   ]
  },
  {
   "cell_type": "code",
   "execution_count": 29,
   "metadata": {},
   "outputs": [
    {
     "data": {
      "text/html": [
       "<div>\n",
       "<style scoped>\n",
       "    .dataframe tbody tr th:only-of-type {\n",
       "        vertical-align: middle;\n",
       "    }\n",
       "\n",
       "    .dataframe tbody tr th {\n",
       "        vertical-align: top;\n",
       "    }\n",
       "\n",
       "    .dataframe thead th {\n",
       "        text-align: right;\n",
       "    }\n",
       "</style>\n",
       "<table border=\"1\" class=\"dataframe\">\n",
       "  <thead>\n",
       "    <tr style=\"text-align: right;\">\n",
       "      <th></th>\n",
       "      <th>Survived</th>\n",
       "      <th>Pclass</th>\n",
       "      <th>Sex</th>\n",
       "      <th>Age</th>\n",
       "      <th>SibSp</th>\n",
       "      <th>Parch</th>\n",
       "      <th>Fare</th>\n",
       "      <th>Embarked</th>\n",
       "      <th>cabin_class</th>\n",
       "      <th>cabin_class_A</th>\n",
       "      <th>...</th>\n",
       "      <th>cabin_class_E</th>\n",
       "      <th>cabin_class_F</th>\n",
       "      <th>cabin_class_G</th>\n",
       "      <th>cabin_class_T</th>\n",
       "      <th>SibSp_group</th>\n",
       "      <th>EncodedSex_female</th>\n",
       "      <th>EncodedSex_male</th>\n",
       "      <th>EncodedEmbarke_C</th>\n",
       "      <th>EncodedEmbarke_Q</th>\n",
       "      <th>EncodedEmbarke_S</th>\n",
       "    </tr>\n",
       "  </thead>\n",
       "  <tbody>\n",
       "    <tr>\n",
       "      <th>0</th>\n",
       "      <td>0</td>\n",
       "      <td>3</td>\n",
       "      <td>male</td>\n",
       "      <td>22.0</td>\n",
       "      <td>1</td>\n",
       "      <td>0</td>\n",
       "      <td>7.2500</td>\n",
       "      <td>S</td>\n",
       "      <td>NaN</td>\n",
       "      <td>0</td>\n",
       "      <td>...</td>\n",
       "      <td>0</td>\n",
       "      <td>0</td>\n",
       "      <td>0</td>\n",
       "      <td>0</td>\n",
       "      <td>Couple</td>\n",
       "      <td>0</td>\n",
       "      <td>1</td>\n",
       "      <td>0</td>\n",
       "      <td>0</td>\n",
       "      <td>1</td>\n",
       "    </tr>\n",
       "    <tr>\n",
       "      <th>1</th>\n",
       "      <td>1</td>\n",
       "      <td>1</td>\n",
       "      <td>female</td>\n",
       "      <td>38.0</td>\n",
       "      <td>1</td>\n",
       "      <td>0</td>\n",
       "      <td>71.2833</td>\n",
       "      <td>C</td>\n",
       "      <td>C</td>\n",
       "      <td>0</td>\n",
       "      <td>...</td>\n",
       "      <td>0</td>\n",
       "      <td>0</td>\n",
       "      <td>0</td>\n",
       "      <td>0</td>\n",
       "      <td>Couple</td>\n",
       "      <td>1</td>\n",
       "      <td>0</td>\n",
       "      <td>1</td>\n",
       "      <td>0</td>\n",
       "      <td>0</td>\n",
       "    </tr>\n",
       "    <tr>\n",
       "      <th>2</th>\n",
       "      <td>1</td>\n",
       "      <td>3</td>\n",
       "      <td>female</td>\n",
       "      <td>26.0</td>\n",
       "      <td>0</td>\n",
       "      <td>0</td>\n",
       "      <td>7.9250</td>\n",
       "      <td>S</td>\n",
       "      <td>NaN</td>\n",
       "      <td>0</td>\n",
       "      <td>...</td>\n",
       "      <td>0</td>\n",
       "      <td>0</td>\n",
       "      <td>0</td>\n",
       "      <td>0</td>\n",
       "      <td>Single</td>\n",
       "      <td>1</td>\n",
       "      <td>0</td>\n",
       "      <td>0</td>\n",
       "      <td>0</td>\n",
       "      <td>1</td>\n",
       "    </tr>\n",
       "    <tr>\n",
       "      <th>3</th>\n",
       "      <td>1</td>\n",
       "      <td>1</td>\n",
       "      <td>female</td>\n",
       "      <td>35.0</td>\n",
       "      <td>1</td>\n",
       "      <td>0</td>\n",
       "      <td>53.1000</td>\n",
       "      <td>S</td>\n",
       "      <td>C</td>\n",
       "      <td>0</td>\n",
       "      <td>...</td>\n",
       "      <td>0</td>\n",
       "      <td>0</td>\n",
       "      <td>0</td>\n",
       "      <td>0</td>\n",
       "      <td>Couple</td>\n",
       "      <td>1</td>\n",
       "      <td>0</td>\n",
       "      <td>0</td>\n",
       "      <td>0</td>\n",
       "      <td>1</td>\n",
       "    </tr>\n",
       "    <tr>\n",
       "      <th>4</th>\n",
       "      <td>0</td>\n",
       "      <td>3</td>\n",
       "      <td>male</td>\n",
       "      <td>35.0</td>\n",
       "      <td>0</td>\n",
       "      <td>0</td>\n",
       "      <td>8.0500</td>\n",
       "      <td>S</td>\n",
       "      <td>NaN</td>\n",
       "      <td>0</td>\n",
       "      <td>...</td>\n",
       "      <td>0</td>\n",
       "      <td>0</td>\n",
       "      <td>0</td>\n",
       "      <td>0</td>\n",
       "      <td>Single</td>\n",
       "      <td>0</td>\n",
       "      <td>1</td>\n",
       "      <td>0</td>\n",
       "      <td>0</td>\n",
       "      <td>1</td>\n",
       "    </tr>\n",
       "  </tbody>\n",
       "</table>\n",
       "<p>5 rows × 23 columns</p>\n",
       "</div>"
      ],
      "text/plain": [
       "   Survived  Pclass     Sex   Age  SibSp  Parch     Fare Embarked cabin_class  \\\n",
       "0         0       3    male  22.0      1      0   7.2500        S         NaN   \n",
       "1         1       1  female  38.0      1      0  71.2833        C           C   \n",
       "2         1       3  female  26.0      0      0   7.9250        S         NaN   \n",
       "3         1       1  female  35.0      1      0  53.1000        S           C   \n",
       "4         0       3    male  35.0      0      0   8.0500        S         NaN   \n",
       "\n",
       "   cabin_class_A  ...  cabin_class_E  cabin_class_F  cabin_class_G  \\\n",
       "0              0  ...              0              0              0   \n",
       "1              0  ...              0              0              0   \n",
       "2              0  ...              0              0              0   \n",
       "3              0  ...              0              0              0   \n",
       "4              0  ...              0              0              0   \n",
       "\n",
       "   cabin_class_T  SibSp_group  EncodedSex_female  EncodedSex_male  \\\n",
       "0              0       Couple                  0                1   \n",
       "1              0       Couple                  1                0   \n",
       "2              0       Single                  1                0   \n",
       "3              0       Couple                  1                0   \n",
       "4              0       Single                  0                1   \n",
       "\n",
       "  EncodedEmbarke_C  EncodedEmbarke_Q  EncodedEmbarke_S  \n",
       "0                0                 0                 1  \n",
       "1                1                 0                 0  \n",
       "2                0                 0                 1  \n",
       "3                0                 0                 1  \n",
       "4                0                 0                 1  \n",
       "\n",
       "[5 rows x 23 columns]"
      ]
     },
     "execution_count": 29,
     "metadata": {},
     "output_type": "execute_result"
    }
   ],
   "source": [
    "df_train.head()"
   ]
  },
  {
   "cell_type": "code",
   "execution_count": 31,
   "metadata": {},
   "outputs": [
    {
     "name": "stdout",
     "output_type": "stream",
     "text": [
      "<class 'pandas.core.frame.DataFrame'>\n",
      "RangeIndex: 891 entries, 0 to 890\n",
      "Data columns (total 23 columns):\n",
      " #   Column             Non-Null Count  Dtype  \n",
      "---  ------             --------------  -----  \n",
      " 0   Survived           891 non-null    int64  \n",
      " 1   Pclass             891 non-null    int64  \n",
      " 2   Sex                891 non-null    object \n",
      " 3   Age                714 non-null    float64\n",
      " 4   SibSp              891 non-null    int64  \n",
      " 5   Parch              891 non-null    int64  \n",
      " 6   Fare               891 non-null    float64\n",
      " 7   Embarked           889 non-null    object \n",
      " 8   cabin_class        204 non-null    object \n",
      " 9   cabin_class_A      891 non-null    uint8  \n",
      " 10  cabin_class_B      891 non-null    uint8  \n",
      " 11  cabin_class_C      891 non-null    uint8  \n",
      " 12  cabin_class_D      891 non-null    uint8  \n",
      " 13  cabin_class_E      891 non-null    uint8  \n",
      " 14  cabin_class_F      891 non-null    uint8  \n",
      " 15  cabin_class_G      891 non-null    uint8  \n",
      " 16  cabin_class_T      891 non-null    uint8  \n",
      " 17  SibSp_group        891 non-null    object \n",
      " 18  EncodedSex_female  891 non-null    uint8  \n",
      " 19  EncodedSex_male    891 non-null    uint8  \n",
      " 20  EncodedEmbarke_C   891 non-null    uint8  \n",
      " 21  EncodedEmbarke_Q   891 non-null    uint8  \n",
      " 22  EncodedEmbarke_S   891 non-null    uint8  \n",
      "dtypes: float64(2), int64(4), object(4), uint8(13)\n",
      "memory usage: 81.0+ KB\n"
     ]
    }
   ],
   "source": [
    "df_train.info()"
   ]
  },
  {
   "cell_type": "code",
   "execution_count": 33,
   "metadata": {},
   "outputs": [],
   "source": [
    "df_train.drop('cabin_class',axis=1,inplace=True)"
   ]
  },
  {
   "cell_type": "code",
   "execution_count": 38,
   "metadata": {},
   "outputs": [
    {
     "data": {
      "text/plain": [
       "29.69911764705882"
      ]
     },
     "execution_count": 38,
     "metadata": {},
     "output_type": "execute_result"
    }
   ],
   "source": [
    "df_train['Age'].mean()"
   ]
  },
  {
   "cell_type": "code",
   "execution_count": 41,
   "metadata": {},
   "outputs": [],
   "source": [
    "df_train['Age'] = df_train['Age'].fillna(df_train['Age'].mean())"
   ]
  },
  {
   "cell_type": "code",
   "execution_count": 42,
   "metadata": {},
   "outputs": [],
   "source": [
    "df_train['Age'] = df_train['Age'].astype(int)"
   ]
  },
  {
   "cell_type": "code",
   "execution_count": 43,
   "metadata": {},
   "outputs": [
    {
     "data": {
      "text/html": [
       "<div>\n",
       "<style scoped>\n",
       "    .dataframe tbody tr th:only-of-type {\n",
       "        vertical-align: middle;\n",
       "    }\n",
       "\n",
       "    .dataframe tbody tr th {\n",
       "        vertical-align: top;\n",
       "    }\n",
       "\n",
       "    .dataframe thead th {\n",
       "        text-align: right;\n",
       "    }\n",
       "</style>\n",
       "<table border=\"1\" class=\"dataframe\">\n",
       "  <thead>\n",
       "    <tr style=\"text-align: right;\">\n",
       "      <th></th>\n",
       "      <th>Survived</th>\n",
       "      <th>Pclass</th>\n",
       "      <th>Sex</th>\n",
       "      <th>Age</th>\n",
       "      <th>SibSp</th>\n",
       "      <th>Parch</th>\n",
       "      <th>Fare</th>\n",
       "      <th>Embarked</th>\n",
       "      <th>cabin_class_A</th>\n",
       "      <th>cabin_class_B</th>\n",
       "      <th>...</th>\n",
       "      <th>cabin_class_E</th>\n",
       "      <th>cabin_class_F</th>\n",
       "      <th>cabin_class_G</th>\n",
       "      <th>cabin_class_T</th>\n",
       "      <th>SibSp_group</th>\n",
       "      <th>EncodedSex_female</th>\n",
       "      <th>EncodedSex_male</th>\n",
       "      <th>EncodedEmbarke_C</th>\n",
       "      <th>EncodedEmbarke_Q</th>\n",
       "      <th>EncodedEmbarke_S</th>\n",
       "    </tr>\n",
       "  </thead>\n",
       "  <tbody>\n",
       "    <tr>\n",
       "      <th>0</th>\n",
       "      <td>0</td>\n",
       "      <td>3</td>\n",
       "      <td>male</td>\n",
       "      <td>22</td>\n",
       "      <td>1</td>\n",
       "      <td>0</td>\n",
       "      <td>7.2500</td>\n",
       "      <td>S</td>\n",
       "      <td>0</td>\n",
       "      <td>0</td>\n",
       "      <td>...</td>\n",
       "      <td>0</td>\n",
       "      <td>0</td>\n",
       "      <td>0</td>\n",
       "      <td>0</td>\n",
       "      <td>Couple</td>\n",
       "      <td>0</td>\n",
       "      <td>1</td>\n",
       "      <td>0</td>\n",
       "      <td>0</td>\n",
       "      <td>1</td>\n",
       "    </tr>\n",
       "    <tr>\n",
       "      <th>1</th>\n",
       "      <td>1</td>\n",
       "      <td>1</td>\n",
       "      <td>female</td>\n",
       "      <td>38</td>\n",
       "      <td>1</td>\n",
       "      <td>0</td>\n",
       "      <td>71.2833</td>\n",
       "      <td>C</td>\n",
       "      <td>0</td>\n",
       "      <td>0</td>\n",
       "      <td>...</td>\n",
       "      <td>0</td>\n",
       "      <td>0</td>\n",
       "      <td>0</td>\n",
       "      <td>0</td>\n",
       "      <td>Couple</td>\n",
       "      <td>1</td>\n",
       "      <td>0</td>\n",
       "      <td>1</td>\n",
       "      <td>0</td>\n",
       "      <td>0</td>\n",
       "    </tr>\n",
       "    <tr>\n",
       "      <th>2</th>\n",
       "      <td>1</td>\n",
       "      <td>3</td>\n",
       "      <td>female</td>\n",
       "      <td>26</td>\n",
       "      <td>0</td>\n",
       "      <td>0</td>\n",
       "      <td>7.9250</td>\n",
       "      <td>S</td>\n",
       "      <td>0</td>\n",
       "      <td>0</td>\n",
       "      <td>...</td>\n",
       "      <td>0</td>\n",
       "      <td>0</td>\n",
       "      <td>0</td>\n",
       "      <td>0</td>\n",
       "      <td>Single</td>\n",
       "      <td>1</td>\n",
       "      <td>0</td>\n",
       "      <td>0</td>\n",
       "      <td>0</td>\n",
       "      <td>1</td>\n",
       "    </tr>\n",
       "    <tr>\n",
       "      <th>3</th>\n",
       "      <td>1</td>\n",
       "      <td>1</td>\n",
       "      <td>female</td>\n",
       "      <td>35</td>\n",
       "      <td>1</td>\n",
       "      <td>0</td>\n",
       "      <td>53.1000</td>\n",
       "      <td>S</td>\n",
       "      <td>0</td>\n",
       "      <td>0</td>\n",
       "      <td>...</td>\n",
       "      <td>0</td>\n",
       "      <td>0</td>\n",
       "      <td>0</td>\n",
       "      <td>0</td>\n",
       "      <td>Couple</td>\n",
       "      <td>1</td>\n",
       "      <td>0</td>\n",
       "      <td>0</td>\n",
       "      <td>0</td>\n",
       "      <td>1</td>\n",
       "    </tr>\n",
       "    <tr>\n",
       "      <th>4</th>\n",
       "      <td>0</td>\n",
       "      <td>3</td>\n",
       "      <td>male</td>\n",
       "      <td>35</td>\n",
       "      <td>0</td>\n",
       "      <td>0</td>\n",
       "      <td>8.0500</td>\n",
       "      <td>S</td>\n",
       "      <td>0</td>\n",
       "      <td>0</td>\n",
       "      <td>...</td>\n",
       "      <td>0</td>\n",
       "      <td>0</td>\n",
       "      <td>0</td>\n",
       "      <td>0</td>\n",
       "      <td>Single</td>\n",
       "      <td>0</td>\n",
       "      <td>1</td>\n",
       "      <td>0</td>\n",
       "      <td>0</td>\n",
       "      <td>1</td>\n",
       "    </tr>\n",
       "  </tbody>\n",
       "</table>\n",
       "<p>5 rows × 22 columns</p>\n",
       "</div>"
      ],
      "text/plain": [
       "   Survived  Pclass     Sex  Age  SibSp  Parch     Fare Embarked  \\\n",
       "0         0       3    male   22      1      0   7.2500        S   \n",
       "1         1       1  female   38      1      0  71.2833        C   \n",
       "2         1       3  female   26      0      0   7.9250        S   \n",
       "3         1       1  female   35      1      0  53.1000        S   \n",
       "4         0       3    male   35      0      0   8.0500        S   \n",
       "\n",
       "   cabin_class_A  cabin_class_B  ...  cabin_class_E  cabin_class_F  \\\n",
       "0              0              0  ...              0              0   \n",
       "1              0              0  ...              0              0   \n",
       "2              0              0  ...              0              0   \n",
       "3              0              0  ...              0              0   \n",
       "4              0              0  ...              0              0   \n",
       "\n",
       "   cabin_class_G  cabin_class_T  SibSp_group  EncodedSex_female  \\\n",
       "0              0              0       Couple                  0   \n",
       "1              0              0       Couple                  1   \n",
       "2              0              0       Single                  1   \n",
       "3              0              0       Couple                  1   \n",
       "4              0              0       Single                  0   \n",
       "\n",
       "  EncodedSex_male  EncodedEmbarke_C  EncodedEmbarke_Q  EncodedEmbarke_S  \n",
       "0               1                 0                 0                 1  \n",
       "1               0                 1                 0                 0  \n",
       "2               0                 0                 0                 1  \n",
       "3               0                 0                 0                 1  \n",
       "4               1                 0                 0                 1  \n",
       "\n",
       "[5 rows x 22 columns]"
      ]
     },
     "execution_count": 43,
     "metadata": {},
     "output_type": "execute_result"
    }
   ],
   "source": [
    "df_train.head()"
   ]
  },
  {
   "cell_type": "code",
   "execution_count": 44,
   "metadata": {},
   "outputs": [
    {
     "data": {
      "text/plain": [
       "Index(['Survived', 'Pclass', 'Sex', 'Age', 'SibSp', 'Parch', 'Fare',\n",
       "       'Embarked', 'cabin_class_A', 'cabin_class_B', 'cabin_class_C',\n",
       "       'cabin_class_D', 'cabin_class_E', 'cabin_class_F', 'cabin_class_G',\n",
       "       'cabin_class_T', 'SibSp_group', 'EncodedSex_female', 'EncodedSex_male',\n",
       "       'EncodedEmbarke_C', 'EncodedEmbarke_Q', 'EncodedEmbarke_S'],\n",
       "      dtype='object')"
      ]
     },
     "execution_count": 44,
     "metadata": {},
     "output_type": "execute_result"
    }
   ],
   "source": [
    "df_train.columns"
   ]
  },
  {
   "cell_type": "code",
   "execution_count": 45,
   "metadata": {},
   "outputs": [],
   "source": [
    "df_train.drop([\"Embarked\",\"Sex\",\"SibSp\"],axis=1,inplace=True)"
   ]
  },
  {
   "cell_type": "code",
   "execution_count": 46,
   "metadata": {},
   "outputs": [
    {
     "data": {
      "text/html": [
       "<div>\n",
       "<style scoped>\n",
       "    .dataframe tbody tr th:only-of-type {\n",
       "        vertical-align: middle;\n",
       "    }\n",
       "\n",
       "    .dataframe tbody tr th {\n",
       "        vertical-align: top;\n",
       "    }\n",
       "\n",
       "    .dataframe thead th {\n",
       "        text-align: right;\n",
       "    }\n",
       "</style>\n",
       "<table border=\"1\" class=\"dataframe\">\n",
       "  <thead>\n",
       "    <tr style=\"text-align: right;\">\n",
       "      <th></th>\n",
       "      <th>Survived</th>\n",
       "      <th>Pclass</th>\n",
       "      <th>Age</th>\n",
       "      <th>Parch</th>\n",
       "      <th>Fare</th>\n",
       "      <th>cabin_class_A</th>\n",
       "      <th>cabin_class_B</th>\n",
       "      <th>cabin_class_C</th>\n",
       "      <th>cabin_class_D</th>\n",
       "      <th>cabin_class_E</th>\n",
       "      <th>cabin_class_F</th>\n",
       "      <th>cabin_class_G</th>\n",
       "      <th>cabin_class_T</th>\n",
       "      <th>SibSp_group</th>\n",
       "      <th>EncodedSex_female</th>\n",
       "      <th>EncodedSex_male</th>\n",
       "      <th>EncodedEmbarke_C</th>\n",
       "      <th>EncodedEmbarke_Q</th>\n",
       "      <th>EncodedEmbarke_S</th>\n",
       "    </tr>\n",
       "  </thead>\n",
       "  <tbody>\n",
       "    <tr>\n",
       "      <th>0</th>\n",
       "      <td>0</td>\n",
       "      <td>3</td>\n",
       "      <td>22</td>\n",
       "      <td>0</td>\n",
       "      <td>7.2500</td>\n",
       "      <td>0</td>\n",
       "      <td>0</td>\n",
       "      <td>0</td>\n",
       "      <td>0</td>\n",
       "      <td>0</td>\n",
       "      <td>0</td>\n",
       "      <td>0</td>\n",
       "      <td>0</td>\n",
       "      <td>Couple</td>\n",
       "      <td>0</td>\n",
       "      <td>1</td>\n",
       "      <td>0</td>\n",
       "      <td>0</td>\n",
       "      <td>1</td>\n",
       "    </tr>\n",
       "    <tr>\n",
       "      <th>1</th>\n",
       "      <td>1</td>\n",
       "      <td>1</td>\n",
       "      <td>38</td>\n",
       "      <td>0</td>\n",
       "      <td>71.2833</td>\n",
       "      <td>0</td>\n",
       "      <td>0</td>\n",
       "      <td>1</td>\n",
       "      <td>0</td>\n",
       "      <td>0</td>\n",
       "      <td>0</td>\n",
       "      <td>0</td>\n",
       "      <td>0</td>\n",
       "      <td>Couple</td>\n",
       "      <td>1</td>\n",
       "      <td>0</td>\n",
       "      <td>1</td>\n",
       "      <td>0</td>\n",
       "      <td>0</td>\n",
       "    </tr>\n",
       "    <tr>\n",
       "      <th>2</th>\n",
       "      <td>1</td>\n",
       "      <td>3</td>\n",
       "      <td>26</td>\n",
       "      <td>0</td>\n",
       "      <td>7.9250</td>\n",
       "      <td>0</td>\n",
       "      <td>0</td>\n",
       "      <td>0</td>\n",
       "      <td>0</td>\n",
       "      <td>0</td>\n",
       "      <td>0</td>\n",
       "      <td>0</td>\n",
       "      <td>0</td>\n",
       "      <td>Single</td>\n",
       "      <td>1</td>\n",
       "      <td>0</td>\n",
       "      <td>0</td>\n",
       "      <td>0</td>\n",
       "      <td>1</td>\n",
       "    </tr>\n",
       "    <tr>\n",
       "      <th>3</th>\n",
       "      <td>1</td>\n",
       "      <td>1</td>\n",
       "      <td>35</td>\n",
       "      <td>0</td>\n",
       "      <td>53.1000</td>\n",
       "      <td>0</td>\n",
       "      <td>0</td>\n",
       "      <td>1</td>\n",
       "      <td>0</td>\n",
       "      <td>0</td>\n",
       "      <td>0</td>\n",
       "      <td>0</td>\n",
       "      <td>0</td>\n",
       "      <td>Couple</td>\n",
       "      <td>1</td>\n",
       "      <td>0</td>\n",
       "      <td>0</td>\n",
       "      <td>0</td>\n",
       "      <td>1</td>\n",
       "    </tr>\n",
       "    <tr>\n",
       "      <th>4</th>\n",
       "      <td>0</td>\n",
       "      <td>3</td>\n",
       "      <td>35</td>\n",
       "      <td>0</td>\n",
       "      <td>8.0500</td>\n",
       "      <td>0</td>\n",
       "      <td>0</td>\n",
       "      <td>0</td>\n",
       "      <td>0</td>\n",
       "      <td>0</td>\n",
       "      <td>0</td>\n",
       "      <td>0</td>\n",
       "      <td>0</td>\n",
       "      <td>Single</td>\n",
       "      <td>0</td>\n",
       "      <td>1</td>\n",
       "      <td>0</td>\n",
       "      <td>0</td>\n",
       "      <td>1</td>\n",
       "    </tr>\n",
       "  </tbody>\n",
       "</table>\n",
       "</div>"
      ],
      "text/plain": [
       "   Survived  Pclass  Age  Parch     Fare  cabin_class_A  cabin_class_B  \\\n",
       "0         0       3   22      0   7.2500              0              0   \n",
       "1         1       1   38      0  71.2833              0              0   \n",
       "2         1       3   26      0   7.9250              0              0   \n",
       "3         1       1   35      0  53.1000              0              0   \n",
       "4         0       3   35      0   8.0500              0              0   \n",
       "\n",
       "   cabin_class_C  cabin_class_D  cabin_class_E  cabin_class_F  cabin_class_G  \\\n",
       "0              0              0              0              0              0   \n",
       "1              1              0              0              0              0   \n",
       "2              0              0              0              0              0   \n",
       "3              1              0              0              0              0   \n",
       "4              0              0              0              0              0   \n",
       "\n",
       "   cabin_class_T SibSp_group  EncodedSex_female  EncodedSex_male  \\\n",
       "0              0      Couple                  0                1   \n",
       "1              0      Couple                  1                0   \n",
       "2              0      Single                  1                0   \n",
       "3              0      Couple                  1                0   \n",
       "4              0      Single                  0                1   \n",
       "\n",
       "   EncodedEmbarke_C  EncodedEmbarke_Q  EncodedEmbarke_S  \n",
       "0                 0                 0                 1  \n",
       "1                 1                 0                 0  \n",
       "2                 0                 0                 1  \n",
       "3                 0                 0                 1  \n",
       "4                 0                 0                 1  "
      ]
     },
     "execution_count": 46,
     "metadata": {},
     "output_type": "execute_result"
    }
   ],
   "source": [
    "df_train.head()"
   ]
  },
  {
   "cell_type": "code",
   "execution_count": 47,
   "metadata": {},
   "outputs": [],
   "source": [
    "df_train_encodedSibSp = pd.get_dummies(df_train['SibSp_group'],prefix='EncodedSibSp')"
   ]
  },
  {
   "cell_type": "code",
   "execution_count": 48,
   "metadata": {},
   "outputs": [],
   "source": [
    "df_train =pd.concat([df_train,df_train_encodedSibSp],axis=1)"
   ]
  },
  {
   "cell_type": "code",
   "execution_count": 49,
   "metadata": {},
   "outputs": [
    {
     "data": {
      "text/plain": [
       "891"
      ]
     },
     "execution_count": 49,
     "metadata": {},
     "output_type": "execute_result"
    }
   ],
   "source": [
    "len(df_train)"
   ]
  },
  {
   "cell_type": "code",
   "execution_count": 54,
   "metadata": {},
   "outputs": [],
   "source": [
    "df_train = df_train.drop('SibSp_group',axis=1)"
   ]
  },
  {
   "cell_type": "code",
   "execution_count": 55,
   "metadata": {},
   "outputs": [
    {
     "data": {
      "text/html": [
       "<div>\n",
       "<style scoped>\n",
       "    .dataframe tbody tr th:only-of-type {\n",
       "        vertical-align: middle;\n",
       "    }\n",
       "\n",
       "    .dataframe tbody tr th {\n",
       "        vertical-align: top;\n",
       "    }\n",
       "\n",
       "    .dataframe thead th {\n",
       "        text-align: right;\n",
       "    }\n",
       "</style>\n",
       "<table border=\"1\" class=\"dataframe\">\n",
       "  <thead>\n",
       "    <tr style=\"text-align: right;\">\n",
       "      <th></th>\n",
       "      <th>Survived</th>\n",
       "      <th>Pclass</th>\n",
       "      <th>Age</th>\n",
       "      <th>Parch</th>\n",
       "      <th>Fare</th>\n",
       "      <th>cabin_class_A</th>\n",
       "      <th>cabin_class_B</th>\n",
       "      <th>cabin_class_C</th>\n",
       "      <th>cabin_class_D</th>\n",
       "      <th>cabin_class_E</th>\n",
       "      <th>...</th>\n",
       "      <th>cabin_class_G</th>\n",
       "      <th>cabin_class_T</th>\n",
       "      <th>EncodedSex_female</th>\n",
       "      <th>EncodedSex_male</th>\n",
       "      <th>EncodedEmbarke_C</th>\n",
       "      <th>EncodedEmbarke_Q</th>\n",
       "      <th>EncodedEmbarke_S</th>\n",
       "      <th>EncodedSibSp_Couple</th>\n",
       "      <th>EncodedSibSp_Family</th>\n",
       "      <th>EncodedSibSp_Single</th>\n",
       "    </tr>\n",
       "  </thead>\n",
       "  <tbody>\n",
       "    <tr>\n",
       "      <th>0</th>\n",
       "      <td>0</td>\n",
       "      <td>3</td>\n",
       "      <td>22</td>\n",
       "      <td>0</td>\n",
       "      <td>7.2500</td>\n",
       "      <td>0</td>\n",
       "      <td>0</td>\n",
       "      <td>0</td>\n",
       "      <td>0</td>\n",
       "      <td>0</td>\n",
       "      <td>...</td>\n",
       "      <td>0</td>\n",
       "      <td>0</td>\n",
       "      <td>0</td>\n",
       "      <td>1</td>\n",
       "      <td>0</td>\n",
       "      <td>0</td>\n",
       "      <td>1</td>\n",
       "      <td>1</td>\n",
       "      <td>0</td>\n",
       "      <td>0</td>\n",
       "    </tr>\n",
       "    <tr>\n",
       "      <th>1</th>\n",
       "      <td>1</td>\n",
       "      <td>1</td>\n",
       "      <td>38</td>\n",
       "      <td>0</td>\n",
       "      <td>71.2833</td>\n",
       "      <td>0</td>\n",
       "      <td>0</td>\n",
       "      <td>1</td>\n",
       "      <td>0</td>\n",
       "      <td>0</td>\n",
       "      <td>...</td>\n",
       "      <td>0</td>\n",
       "      <td>0</td>\n",
       "      <td>1</td>\n",
       "      <td>0</td>\n",
       "      <td>1</td>\n",
       "      <td>0</td>\n",
       "      <td>0</td>\n",
       "      <td>1</td>\n",
       "      <td>0</td>\n",
       "      <td>0</td>\n",
       "    </tr>\n",
       "    <tr>\n",
       "      <th>2</th>\n",
       "      <td>1</td>\n",
       "      <td>3</td>\n",
       "      <td>26</td>\n",
       "      <td>0</td>\n",
       "      <td>7.9250</td>\n",
       "      <td>0</td>\n",
       "      <td>0</td>\n",
       "      <td>0</td>\n",
       "      <td>0</td>\n",
       "      <td>0</td>\n",
       "      <td>...</td>\n",
       "      <td>0</td>\n",
       "      <td>0</td>\n",
       "      <td>1</td>\n",
       "      <td>0</td>\n",
       "      <td>0</td>\n",
       "      <td>0</td>\n",
       "      <td>1</td>\n",
       "      <td>0</td>\n",
       "      <td>0</td>\n",
       "      <td>1</td>\n",
       "    </tr>\n",
       "    <tr>\n",
       "      <th>3</th>\n",
       "      <td>1</td>\n",
       "      <td>1</td>\n",
       "      <td>35</td>\n",
       "      <td>0</td>\n",
       "      <td>53.1000</td>\n",
       "      <td>0</td>\n",
       "      <td>0</td>\n",
       "      <td>1</td>\n",
       "      <td>0</td>\n",
       "      <td>0</td>\n",
       "      <td>...</td>\n",
       "      <td>0</td>\n",
       "      <td>0</td>\n",
       "      <td>1</td>\n",
       "      <td>0</td>\n",
       "      <td>0</td>\n",
       "      <td>0</td>\n",
       "      <td>1</td>\n",
       "      <td>1</td>\n",
       "      <td>0</td>\n",
       "      <td>0</td>\n",
       "    </tr>\n",
       "    <tr>\n",
       "      <th>4</th>\n",
       "      <td>0</td>\n",
       "      <td>3</td>\n",
       "      <td>35</td>\n",
       "      <td>0</td>\n",
       "      <td>8.0500</td>\n",
       "      <td>0</td>\n",
       "      <td>0</td>\n",
       "      <td>0</td>\n",
       "      <td>0</td>\n",
       "      <td>0</td>\n",
       "      <td>...</td>\n",
       "      <td>0</td>\n",
       "      <td>0</td>\n",
       "      <td>0</td>\n",
       "      <td>1</td>\n",
       "      <td>0</td>\n",
       "      <td>0</td>\n",
       "      <td>1</td>\n",
       "      <td>0</td>\n",
       "      <td>0</td>\n",
       "      <td>1</td>\n",
       "    </tr>\n",
       "  </tbody>\n",
       "</table>\n",
       "<p>5 rows × 21 columns</p>\n",
       "</div>"
      ],
      "text/plain": [
       "   Survived  Pclass  Age  Parch     Fare  cabin_class_A  cabin_class_B  \\\n",
       "0         0       3   22      0   7.2500              0              0   \n",
       "1         1       1   38      0  71.2833              0              0   \n",
       "2         1       3   26      0   7.9250              0              0   \n",
       "3         1       1   35      0  53.1000              0              0   \n",
       "4         0       3   35      0   8.0500              0              0   \n",
       "\n",
       "   cabin_class_C  cabin_class_D  cabin_class_E  ...  cabin_class_G  \\\n",
       "0              0              0              0  ...              0   \n",
       "1              1              0              0  ...              0   \n",
       "2              0              0              0  ...              0   \n",
       "3              1              0              0  ...              0   \n",
       "4              0              0              0  ...              0   \n",
       "\n",
       "   cabin_class_T  EncodedSex_female  EncodedSex_male  EncodedEmbarke_C  \\\n",
       "0              0                  0                1                 0   \n",
       "1              0                  1                0                 1   \n",
       "2              0                  1                0                 0   \n",
       "3              0                  1                0                 0   \n",
       "4              0                  0                1                 0   \n",
       "\n",
       "   EncodedEmbarke_Q  EncodedEmbarke_S  EncodedSibSp_Couple  \\\n",
       "0                 0                 1                    1   \n",
       "1                 0                 0                    1   \n",
       "2                 0                 1                    0   \n",
       "3                 0                 1                    1   \n",
       "4                 0                 1                    0   \n",
       "\n",
       "   EncodedSibSp_Family  EncodedSibSp_Single  \n",
       "0                    0                    0  \n",
       "1                    0                    0  \n",
       "2                    0                    1  \n",
       "3                    0                    0  \n",
       "4                    0                    1  \n",
       "\n",
       "[5 rows x 21 columns]"
      ]
     },
     "execution_count": 55,
     "metadata": {},
     "output_type": "execute_result"
    }
   ],
   "source": [
    "df_train.head()"
   ]
  },
  {
   "cell_type": "code",
   "execution_count": 51,
   "metadata": {},
   "outputs": [],
   "source": [
    "scaler = StandardScaler()"
   ]
  },
  {
   "cell_type": "code",
   "execution_count": 56,
   "metadata": {},
   "outputs": [],
   "source": [
    "df_train_norm = scaler.fit_transform(df_train)"
   ]
  },
  {
   "cell_type": "code",
   "execution_count": 58,
   "metadata": {},
   "outputs": [
    {
     "data": {
      "text/plain": [
       "array([[-0.78927234,  0.82737724, -0.58004441, ...,  1.80642129,\n",
       "        -0.30095727, -1.46574551],\n",
       "       [ 1.2669898 , -1.56610693,  0.65011226, ...,  1.80642129,\n",
       "        -0.30095727, -1.46574551],\n",
       "       [ 1.2669898 ,  0.82737724, -0.27250525, ..., -0.55358072,\n",
       "        -0.30095727,  0.68224668],\n",
       "       ...,\n",
       "       [-0.78927234,  0.82737724, -0.04185087, ...,  1.80642129,\n",
       "        -0.30095727, -1.46574551],\n",
       "       [ 1.2669898 , -1.56610693, -0.27250525, ..., -0.55358072,\n",
       "        -0.30095727,  0.68224668],\n",
       "       [-0.78927234,  0.82737724,  0.18880351, ..., -0.55358072,\n",
       "        -0.30095727,  0.68224668]])"
      ]
     },
     "execution_count": 58,
     "metadata": {},
     "output_type": "execute_result"
    }
   ],
   "source": [
    "df_train_norm"
   ]
  },
  {
   "cell_type": "code",
   "execution_count": 60,
   "metadata": {},
   "outputs": [
    {
     "data": {
      "text/plain": [
       "(891, 21)"
      ]
     },
     "execution_count": 60,
     "metadata": {},
     "output_type": "execute_result"
    }
   ],
   "source": [
    "df_train_norm.shape"
   ]
  },
  {
   "cell_type": "code",
   "execution_count": 62,
   "metadata": {},
   "outputs": [
    {
     "data": {
      "text/plain": [
       "Index(['Survived', 'Pclass', 'Age', 'Parch', 'Fare', 'cabin_class_A',\n",
       "       'cabin_class_B', 'cabin_class_C', 'cabin_class_D', 'cabin_class_E',\n",
       "       'cabin_class_F', 'cabin_class_G', 'cabin_class_T', 'EncodedSex_female',\n",
       "       'EncodedSex_male', 'EncodedEmbarke_C', 'EncodedEmbarke_Q',\n",
       "       'EncodedEmbarke_S', 'EncodedSibSp_Couple', 'EncodedSibSp_Family',\n",
       "       'EncodedSibSp_Single'],\n",
       "      dtype='object')"
      ]
     },
     "execution_count": 62,
     "metadata": {},
     "output_type": "execute_result"
    }
   ],
   "source": [
    "columns = df_train.columns\n",
    "columns"
   ]
  },
  {
   "cell_type": "code",
   "execution_count": 64,
   "metadata": {},
   "outputs": [
    {
     "data": {
      "text/html": [
       "<div>\n",
       "<style scoped>\n",
       "    .dataframe tbody tr th:only-of-type {\n",
       "        vertical-align: middle;\n",
       "    }\n",
       "\n",
       "    .dataframe tbody tr th {\n",
       "        vertical-align: top;\n",
       "    }\n",
       "\n",
       "    .dataframe thead th {\n",
       "        text-align: right;\n",
       "    }\n",
       "</style>\n",
       "<table border=\"1\" class=\"dataframe\">\n",
       "  <thead>\n",
       "    <tr style=\"text-align: right;\">\n",
       "      <th></th>\n",
       "      <th>Survived</th>\n",
       "      <th>Pclass</th>\n",
       "      <th>Age</th>\n",
       "      <th>Parch</th>\n",
       "      <th>Fare</th>\n",
       "      <th>cabin_class_A</th>\n",
       "      <th>cabin_class_B</th>\n",
       "      <th>cabin_class_C</th>\n",
       "      <th>cabin_class_D</th>\n",
       "      <th>cabin_class_E</th>\n",
       "      <th>...</th>\n",
       "      <th>cabin_class_G</th>\n",
       "      <th>cabin_class_T</th>\n",
       "      <th>EncodedSex_female</th>\n",
       "      <th>EncodedSex_male</th>\n",
       "      <th>EncodedEmbarke_C</th>\n",
       "      <th>EncodedEmbarke_Q</th>\n",
       "      <th>EncodedEmbarke_S</th>\n",
       "      <th>EncodedSibSp_Couple</th>\n",
       "      <th>EncodedSibSp_Family</th>\n",
       "      <th>EncodedSibSp_Single</th>\n",
       "    </tr>\n",
       "  </thead>\n",
       "  <tbody>\n",
       "    <tr>\n",
       "      <th>0</th>\n",
       "      <td>-0.789272</td>\n",
       "      <td>0.827377</td>\n",
       "      <td>-0.580044</td>\n",
       "      <td>-0.473674</td>\n",
       "      <td>-0.502445</td>\n",
       "      <td>-0.130856</td>\n",
       "      <td>-0.235981</td>\n",
       "      <td>-0.266296</td>\n",
       "      <td>-0.196116</td>\n",
       "      <td>-0.193009</td>\n",
       "      <td>...</td>\n",
       "      <td>-0.067153</td>\n",
       "      <td>-0.03352</td>\n",
       "      <td>-0.737695</td>\n",
       "      <td>0.737695</td>\n",
       "      <td>-0.482043</td>\n",
       "      <td>-0.307562</td>\n",
       "      <td>0.619306</td>\n",
       "      <td>1.806421</td>\n",
       "      <td>-0.300957</td>\n",
       "      <td>-1.465746</td>\n",
       "    </tr>\n",
       "    <tr>\n",
       "      <th>1</th>\n",
       "      <td>1.266990</td>\n",
       "      <td>-1.566107</td>\n",
       "      <td>0.650112</td>\n",
       "      <td>-0.473674</td>\n",
       "      <td>0.786845</td>\n",
       "      <td>-0.130856</td>\n",
       "      <td>-0.235981</td>\n",
       "      <td>3.755222</td>\n",
       "      <td>-0.196116</td>\n",
       "      <td>-0.193009</td>\n",
       "      <td>...</td>\n",
       "      <td>-0.067153</td>\n",
       "      <td>-0.03352</td>\n",
       "      <td>1.355574</td>\n",
       "      <td>-1.355574</td>\n",
       "      <td>2.074505</td>\n",
       "      <td>-0.307562</td>\n",
       "      <td>-1.614710</td>\n",
       "      <td>1.806421</td>\n",
       "      <td>-0.300957</td>\n",
       "      <td>-1.465746</td>\n",
       "    </tr>\n",
       "    <tr>\n",
       "      <th>2</th>\n",
       "      <td>1.266990</td>\n",
       "      <td>0.827377</td>\n",
       "      <td>-0.272505</td>\n",
       "      <td>-0.473674</td>\n",
       "      <td>-0.488854</td>\n",
       "      <td>-0.130856</td>\n",
       "      <td>-0.235981</td>\n",
       "      <td>-0.266296</td>\n",
       "      <td>-0.196116</td>\n",
       "      <td>-0.193009</td>\n",
       "      <td>...</td>\n",
       "      <td>-0.067153</td>\n",
       "      <td>-0.03352</td>\n",
       "      <td>1.355574</td>\n",
       "      <td>-1.355574</td>\n",
       "      <td>-0.482043</td>\n",
       "      <td>-0.307562</td>\n",
       "      <td>0.619306</td>\n",
       "      <td>-0.553581</td>\n",
       "      <td>-0.300957</td>\n",
       "      <td>0.682247</td>\n",
       "    </tr>\n",
       "    <tr>\n",
       "      <th>3</th>\n",
       "      <td>1.266990</td>\n",
       "      <td>-1.566107</td>\n",
       "      <td>0.419458</td>\n",
       "      <td>-0.473674</td>\n",
       "      <td>0.420730</td>\n",
       "      <td>-0.130856</td>\n",
       "      <td>-0.235981</td>\n",
       "      <td>3.755222</td>\n",
       "      <td>-0.196116</td>\n",
       "      <td>-0.193009</td>\n",
       "      <td>...</td>\n",
       "      <td>-0.067153</td>\n",
       "      <td>-0.03352</td>\n",
       "      <td>1.355574</td>\n",
       "      <td>-1.355574</td>\n",
       "      <td>-0.482043</td>\n",
       "      <td>-0.307562</td>\n",
       "      <td>0.619306</td>\n",
       "      <td>1.806421</td>\n",
       "      <td>-0.300957</td>\n",
       "      <td>-1.465746</td>\n",
       "    </tr>\n",
       "    <tr>\n",
       "      <th>4</th>\n",
       "      <td>-0.789272</td>\n",
       "      <td>0.827377</td>\n",
       "      <td>0.419458</td>\n",
       "      <td>-0.473674</td>\n",
       "      <td>-0.486337</td>\n",
       "      <td>-0.130856</td>\n",
       "      <td>-0.235981</td>\n",
       "      <td>-0.266296</td>\n",
       "      <td>-0.196116</td>\n",
       "      <td>-0.193009</td>\n",
       "      <td>...</td>\n",
       "      <td>-0.067153</td>\n",
       "      <td>-0.03352</td>\n",
       "      <td>-0.737695</td>\n",
       "      <td>0.737695</td>\n",
       "      <td>-0.482043</td>\n",
       "      <td>-0.307562</td>\n",
       "      <td>0.619306</td>\n",
       "      <td>-0.553581</td>\n",
       "      <td>-0.300957</td>\n",
       "      <td>0.682247</td>\n",
       "    </tr>\n",
       "  </tbody>\n",
       "</table>\n",
       "<p>5 rows × 21 columns</p>\n",
       "</div>"
      ],
      "text/plain": [
       "   Survived    Pclass       Age     Parch      Fare  cabin_class_A  \\\n",
       "0 -0.789272  0.827377 -0.580044 -0.473674 -0.502445      -0.130856   \n",
       "1  1.266990 -1.566107  0.650112 -0.473674  0.786845      -0.130856   \n",
       "2  1.266990  0.827377 -0.272505 -0.473674 -0.488854      -0.130856   \n",
       "3  1.266990 -1.566107  0.419458 -0.473674  0.420730      -0.130856   \n",
       "4 -0.789272  0.827377  0.419458 -0.473674 -0.486337      -0.130856   \n",
       "\n",
       "   cabin_class_B  cabin_class_C  cabin_class_D  cabin_class_E  ...  \\\n",
       "0      -0.235981      -0.266296      -0.196116      -0.193009  ...   \n",
       "1      -0.235981       3.755222      -0.196116      -0.193009  ...   \n",
       "2      -0.235981      -0.266296      -0.196116      -0.193009  ...   \n",
       "3      -0.235981       3.755222      -0.196116      -0.193009  ...   \n",
       "4      -0.235981      -0.266296      -0.196116      -0.193009  ...   \n",
       "\n",
       "   cabin_class_G  cabin_class_T  EncodedSex_female  EncodedSex_male  \\\n",
       "0      -0.067153       -0.03352          -0.737695         0.737695   \n",
       "1      -0.067153       -0.03352           1.355574        -1.355574   \n",
       "2      -0.067153       -0.03352           1.355574        -1.355574   \n",
       "3      -0.067153       -0.03352           1.355574        -1.355574   \n",
       "4      -0.067153       -0.03352          -0.737695         0.737695   \n",
       "\n",
       "   EncodedEmbarke_C  EncodedEmbarke_Q  EncodedEmbarke_S  EncodedSibSp_Couple  \\\n",
       "0         -0.482043         -0.307562          0.619306             1.806421   \n",
       "1          2.074505         -0.307562         -1.614710             1.806421   \n",
       "2         -0.482043         -0.307562          0.619306            -0.553581   \n",
       "3         -0.482043         -0.307562          0.619306             1.806421   \n",
       "4         -0.482043         -0.307562          0.619306            -0.553581   \n",
       "\n",
       "   EncodedSibSp_Family  EncodedSibSp_Single  \n",
       "0            -0.300957            -1.465746  \n",
       "1            -0.300957            -1.465746  \n",
       "2            -0.300957             0.682247  \n",
       "3            -0.300957            -1.465746  \n",
       "4            -0.300957             0.682247  \n",
       "\n",
       "[5 rows x 21 columns]"
      ]
     },
     "execution_count": 64,
     "metadata": {},
     "output_type": "execute_result"
    }
   ],
   "source": [
    "df1 = pd.DataFrame(data=df_train_norm, columns=columns )\n",
    "df1.head()"
   ]
  },
  {
   "cell_type": "code",
   "execution_count": 67,
   "metadata": {},
   "outputs": [],
   "source": [
    "X = df1.drop('Survived',axis=1)"
   ]
  },
  {
   "cell_type": "code",
   "execution_count": 70,
   "metadata": {},
   "outputs": [],
   "source": [
    "clf = LogisticRegression(random_state=0).fit(X, y)"
   ]
  },
  {
   "cell_type": "code",
   "execution_count": 72,
   "metadata": {},
   "outputs": [
    {
     "data": {
      "text/plain": [
       "array([0, 1], dtype=int64)"
      ]
     },
     "execution_count": 72,
     "metadata": {},
     "output_type": "execute_result"
    }
   ],
   "source": [
    "clf.predict(X.iloc[:2, :])"
   ]
  },
  {
   "cell_type": "code",
   "execution_count": 76,
   "metadata": {},
   "outputs": [
    {
     "data": {
      "text/plain": [
       "0    0\n",
       "1    1\n",
       "Name: Survived, dtype: int64"
      ]
     },
     "execution_count": 76,
     "metadata": {},
     "output_type": "execute_result"
    }
   ],
   "source": [
    "y[:2]"
   ]
  },
  {
   "cell_type": "code",
   "execution_count": null,
   "metadata": {},
   "outputs": [],
   "source": []
  }
 ],
 "metadata": {
  "kernelspec": {
   "display_name": "Python 3",
   "language": "python",
   "name": "python3"
  },
  "language_info": {
   "codemirror_mode": {
    "name": "ipython",
    "version": 3
   },
   "file_extension": ".py",
   "mimetype": "text/x-python",
   "name": "python",
   "nbconvert_exporter": "python",
   "pygments_lexer": "ipython3",
   "version": "3.8.8"
  }
 },
 "nbformat": 4,
 "nbformat_minor": 4
}
