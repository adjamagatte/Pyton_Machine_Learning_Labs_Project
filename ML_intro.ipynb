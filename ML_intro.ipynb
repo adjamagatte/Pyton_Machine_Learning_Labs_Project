{
 "cells": [
  {
   "cell_type": "markdown",
   "metadata": {
    "id": "pdx90bxFDgXk"
   },
   "source": [
    "The goal of the 2 support lesson is to discover Pandas and Scikit-learn.\n",
    "Then, you can apply it to the *Zillow dataset*"
   ]
  },
  {
   "cell_type": "markdown",
   "metadata": {
    "id": "aFXnu3E-DXe2"
   },
   "source": [
    "## Preliminary: "
   ]
  },
  {
   "cell_type": "markdown",
   "metadata": {
    "id": "hOuBte8BG6kO"
   },
   "source": [
    "[Scikit-Learn](https://jakevdp.github.io/PythonDataScienceHandbook/05.02-introducing-scikit-learn.html)"
   ]
  },
  {
   "cell_type": "markdown",
   "metadata": {
    "id": "YuolPgJeHDpw"
   },
   "source": [
    "[ANYBOOK](https://www.pdfdrive.com/python-for-data-analysis-data-wrangling-with-pandas-numpy-and-ipython-e184032353.html)"
   ]
  },
  {
   "cell_type": "markdown",
   "metadata": {
    "id": "V_jYJ975H61H"
   },
   "source": [
    "### Datasets"
   ]
  },
  {
   "cell_type": "code",
   "execution_count": null,
   "metadata": {
    "id": "XhcclGo4ChN2"
   },
   "outputs": [],
   "source": [
    "#ABC of data science (scikit-learn)\n",
    "https://jakevdp.github.io/PythonDataScienceHandbook/05.02-introducing-scikit-learn.html"
   ]
  },
  {
   "cell_type": "code",
   "execution_count": null,
   "metadata": {
    "id": "smVOvXRvA_ca"
   },
   "outputs": [],
   "source": [
    "# titanic dataset\n",
    "# walkthrough: https://towardsdatascience.com/predicting-the-survival-of-titanic-passengers-30870ccc7e8"
   ]
  },
  {
   "cell_type": "code",
   "execution_count": null,
   "metadata": {},
   "outputs": [],
   "source": []
  },
  {
   "cell_type": "code",
   "execution_count": null,
   "metadata": {
    "id": "0WVOkpwfB7hM"
   },
   "outputs": [],
   "source": [
    "# boston housing dataset\n",
    "#  walkthrough: https://towardsdatascience.com/linear-regression-on-boston-housing-dataset-f409b7e4a155"
   ]
  },
  {
   "cell_type": "markdown",
   "metadata": {
    "id": "9qKHVAGqEmG8"
   },
   "source": [
    "## Define:\n",
    "- training set\n",
    "- validation set\n",
    "- test set\n",
    "- can I evaluate on the test set ?\n",
    "- can I evaluate on the training set?\n",
    "- accuracy\n",
    "- How do I measure accuracy ?\n",
    "- is RMSE  a good measure of accuracy for regression ?\n",
    "- is RMSE  a good measure of accuracy for classification ?\n",
    "- sensivity\n",
    "- specificity\n",
    "- recall\n",
    "- is recall same as sensitivity ?\n",
    "- is precision the same as specificity ?\n",
    "- what is a confusion matrix ?\n",
    "- undersampling\n",
    "- oversampling\n",
    "- 1-hot encoding\n",
    "- Is 1-hot encoding a good way to convert categorical data ?\n",
    "- Is 1-hot encoding a good way to convert ordinal data ?\n",
    "- What is data standardization - is it necessary?\n",
    "- what is a hyperparameter ?\n",
    "- what is a GridSearch ?\n",
    "- Can i do a GridSearch on training data ?"
   ]
  },
  {
   "cell_type": "markdown",
   "metadata": {
    "id": "r9cZ8U8LD1zL"
   },
   "source": [
    "# A. Toy Zillow dataset"
   ]
  },
  {
   "cell_type": "markdown",
   "metadata": {
    "id": "4UPuP6LpGWxO"
   },
   "source": [
    "[Toy Zillow](https://www.kaggle.com/datasets/paultimothymooney/zillow-house-price-data)"
   ]
  },
  {
   "cell_type": "markdown",
   "metadata": {
    "id": "LRuCafg7C2N7"
   },
   "source": [
    "## Q.2 what is the distribution of the features ?"
   ]
  },
  {
   "cell_type": "markdown",
   "metadata": {
    "id": "3L3UDcs6HiYh"
   },
   "source": [
    "a. Are they normal ?"
   ]
  },
  {
   "cell_type": "markdown",
   "metadata": {
    "id": "2Yo9ejTGHWdO"
   },
   "source": [
    "> Please plot the features to better understand their behaviour"
   ]
  },
  {
   "cell_type": "markdown",
   "metadata": {
    "id": "Pti5OxDvHkge"
   },
   "source": [
    "b. Are the feature correlated ?"
   ]
  },
  {
   "cell_type": "code",
   "execution_count": null,
   "metadata": {
    "id": "rphLYdS8C7yT"
   },
   "outputs": [],
   "source": []
  },
  {
   "cell_type": "markdown",
   "metadata": {
    "id": "YULPfLt6HrRE"
   },
   "source": [
    "c. Is there any outliers ?"
   ]
  },
  {
   "cell_type": "markdown",
   "metadata": {
    "id": "HC1l6RviHuOe"
   },
   "source": [
    "> Please pick the best visualization"
   ]
  },
  {
   "cell_type": "code",
   "execution_count": null,
   "metadata": {
    "id": "GL5ySt05HfS5"
   },
   "outputs": [],
   "source": []
  },
  {
   "cell_type": "markdown",
   "metadata": {
    "id": "xN_Q6Dz_C81a"
   },
   "source": [
    "## Q.3 What algorithm is K-means ? apply it to your dataset"
   ]
  },
  {
   "cell_type": "code",
   "execution_count": null,
   "metadata": {
    "id": "CRPuFvknC8kk"
   },
   "outputs": [],
   "source": []
  },
  {
   "cell_type": "code",
   "execution_count": null,
   "metadata": {
    "id": "pBTkc2q7DPSt"
   },
   "outputs": [],
   "source": []
  },
  {
   "cell_type": "markdown",
   "metadata": {
    "id": "YOZobYujDFX5"
   },
   "source": [
    "## Q.4 What algorithm is k-nearest neighbours ? apply it to your dataset"
   ]
  },
  {
   "cell_type": "code",
   "execution_count": null,
   "metadata": {
    "id": "4cdkGv5YDFE4"
   },
   "outputs": [],
   "source": []
  },
  {
   "cell_type": "code",
   "execution_count": null,
   "metadata": {
    "id": "MK6LhGzzDP0l"
   },
   "outputs": [],
   "source": []
  },
  {
   "cell_type": "markdown",
   "metadata": {
    "id": "QfHuHBmTDyIt"
   },
   "source": [
    "#B. Custom Zillow dataset"
   ]
  },
  {
   "cell_type": "markdown",
   "metadata": {
    "id": "X-_z-MH5GqGQ"
   },
   "source": [
    "### Based on previous lessons - you must have collected the information from Zillow itself\n",
    "*Github* :"
   ]
  },
  {
   "cell_type": "markdown",
   "metadata": {
    "id": "QBlUfNsjCk-z"
   },
   "source": [
    "## Q.1 What feature are you keeping, why?"
   ]
  },
  {
   "cell_type": "markdown",
   "metadata": {
    "id": "XoOmTXozH_Gr"
   },
   "source": [
    "## Q.2 What transformation are you doing on your data, why?"
   ]
  },
  {
   "cell_type": "code",
   "execution_count": null,
   "metadata": {
    "id": "5eSOnzWuEPVo"
   },
   "outputs": [],
   "source": []
  },
  {
   "cell_type": "code",
   "execution_count": null,
   "metadata": {
    "id": "7zhl0a5fEPTI"
   },
   "outputs": [],
   "source": []
  },
  {
   "cell_type": "code",
   "execution_count": null,
   "metadata": {
    "id": "c1abC296EPQZ"
   },
   "outputs": [],
   "source": []
  },
  {
   "cell_type": "code",
   "execution_count": null,
   "metadata": {
    "id": "G5mxdauwEPNu"
   },
   "outputs": [],
   "source": []
  },
  {
   "cell_type": "code",
   "execution_count": null,
   "metadata": {
    "id": "hcIUqugKEPKH"
   },
   "outputs": [],
   "source": []
  },
  {
   "cell_type": "markdown",
   "metadata": {
    "id": "MxPqozjCEFPW"
   },
   "source": [
    "## Q.3 What type of algorithm are Random Forest/Decision trees/xgboost ? "
   ]
  },
  {
   "cell_type": "code",
   "execution_count": null,
   "metadata": {
    "id": "XC4zUt34C1mT"
   },
   "outputs": [],
   "source": []
  },
  {
   "cell_type": "code",
   "execution_count": null,
   "metadata": {
    "id": "aF_h9d0WEQbw"
   },
   "outputs": [],
   "source": []
  },
  {
   "cell_type": "markdown",
   "metadata": {
    "id": "SJT7A4FAIxNa"
   },
   "source": [
    "## Q.4 Scikit-Learn Pipelines"
   ]
  },
  {
   "cell_type": "markdown",
   "metadata": {
    "id": "WSqsES_GI7qE"
   },
   "source": [
    "[SKLEARN-PIPELINES](https://towardsdatascience.com/step-by-step-tutorial-of-sci-kit-learn-pipeline-62402d5629b6)"
   ]
  },
  {
   "cell_type": "code",
   "execution_count": null,
   "metadata": {
    "id": "hM4E0LfQEQZb"
   },
   "outputs": [],
   "source": []
  },
  {
   "cell_type": "code",
   "execution_count": null,
   "metadata": {
    "id": "1p2uQ4DLEQW4"
   },
   "outputs": [],
   "source": []
  },
  {
   "cell_type": "code",
   "execution_count": null,
   "metadata": {
    "id": "hoWcR9XCEQUG"
   },
   "outputs": [],
   "source": []
  }
 ],
 "metadata": {
  "colab": {
   "collapsed_sections": [
    "YOZobYujDFX5"
   ],
   "name": "ML-intro.ipynb",
   "provenance": []
  },
  "kernelspec": {
   "display_name": "Python 3",
   "language": "python",
   "name": "python3"
  },
  "language_info": {
   "codemirror_mode": {
    "name": "ipython",
    "version": 3
   },
   "file_extension": ".py",
   "mimetype": "text/x-python",
   "name": "python",
   "nbconvert_exporter": "python",
   "pygments_lexer": "ipython3",
   "version": "3.8.8"
  }
 },
 "nbformat": 4,
 "nbformat_minor": 4
}
